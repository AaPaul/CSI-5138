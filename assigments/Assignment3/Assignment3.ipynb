{
 "cells": [
  {
   "cell_type": "markdown",
   "metadata": {},
   "source": [
    "# Assignment3"
   ]
  },
  {
   "cell_type": "markdown",
   "metadata": {},
   "source": [
    "### Load data\n",
    "\n",
    "By using os libraries, we load data and creat the label from the file names"
   ]
  },
  {
   "cell_type": "code",
   "execution_count": 3,
   "metadata": {},
   "outputs": [],
   "source": [
    "from __future__ import print_function, absolute_import, division, unicode_literals\n",
    "import numpy as np\n",
    "import matplotlib.pyplot as plt\n",
    "import os\n",
    "import warnings\n",
    "warnings.filterwarnings(\"ignore\")\n",
    "def plot_graphs(histroy, string):\n",
    "    plt.plot(histroy.history[string])\n",
    "    plt.plot(histroy.history['val_'+string], '')\n",
    "    plt.xlabel(\"Epochs\")\n",
    "    plt.ylabel(string)\n",
    "    plt.legend([string, 'val_'+string])\n",
    "    plt.show()\n",
    "\n",
    "train_pos_path = './aclImdb/train/pos/'\n",
    "\n",
    "train_neg_path = './aclImdb/train/neg/'\n",
    "test_pos_path = './aclImdb/test/pos/'\n",
    "test_neg_path = './aclImdb/test/neg/'\n",
    "\n",
    "train_data = []\n",
    "train_label = []\n",
    "test_data = []\n",
    "test_label = []\n",
    "train_dir = os.listdir(train_pos_path)+os.listdir(train_neg_path)\n",
    "for filename in train_dir:\n",
    "    flag = int(filename.split('_')[-1].split('.')[-2])\n",
    "    if(flag >= 5):\n",
    "        train_label.append(1)\n",
    "        train_data.append(open(train_pos_path+filename).read())\n",
    "    else:\n",
    "        train_label.append(0)\n",
    "        train_data.append(open(train_neg_path+filename).read())\n",
    "\n",
    "test_dir = os.listdir(test_pos_path)+os.listdir(test_neg_path)\n",
    "for filename in test_dir:\n",
    "    flag = int(filename.split('_')[-1].split('.')[-2])\n",
    "    if(flag >= 5):\n",
    "        test_label.append(1)\n",
    "        test_data.append(open(test_pos_path+filename).read())\n",
    "    else:\n",
    "        test_label.append(0)\n",
    "        test_data.append(open(test_neg_path+filename).read())"
   ]
  },
  {
   "cell_type": "code",
   "execution_count": 19,
   "metadata": {},
   "outputs": [
    {
     "name": "stdout",
     "output_type": "stream",
     "text": [
      "2470\n",
      "1175_9.txt\n"
     ]
    }
   ],
   "source": [
    "train_pos_path = './aclImdb/train/pos/'\n",
    "train_neg_path = './aclImdb/train/neg/'\n",
    "test_pos_path = './aclImdb/test/pos/'\n",
    "test_neg_path = './aclImdb/test/neg/'\n",
    "import os\n",
    "train_dir = os.listdir(train_pos_path)+os.listdir(train_neg_path)\n",
    "max_num = 0\n",
    "\n",
    "for filename in train_dir:\n",
    "    flag = int(filename.split('_')[-1].split('.')[-2])\n",
    "    if(flag >= 5):\n",
    "        with open(train_pos_path+filename, encoding='utf8') as file_obj:\n",
    "            contents = file_obj.read()\n",
    "            words = contents.split()\n",
    "            num_words = len(words)\n",
    "            if (max_num < num_words):\n",
    "                max_num = num_words\n",
    "                f = filename\n",
    "    else:\n",
    "        with open(train_neg_path+filename, encoding='utf8') as file_obj:\n",
    "            contents = file_obj.read()\n",
    "            words = contents.split()\n",
    "            num_words = len(words)\n",
    "            if (max_num < num_words):\n",
    "                max_num = num_words\n",
    "                f = filename\n",
    "        \n",
    "print(max_num)\n",
    "print(f)"
   ]
  },
  {
   "cell_type": "code",
   "execution_count": 19,
   "metadata": {},
   "outputs": [],
   "source": [
    "from tensorflow.keras.preprocessing.text import Tokenizer\n",
    "from tensorflow.keras.preprocessing.sequence import pad_sequences\n",
    "\n",
    "\n",
    "\n",
    "max_length = 500\n",
    "tokenizer = Tokenizer(num_words = max_length, split = (' '))\n",
    "total_reviews = train_data + test_data\n",
    "tokenizer.fit_on_texts(total_reviews)\n",
    "\n",
    "X_train = tokenizer.texts_to_sequences(train_data)\n",
    "X_train_pad = pad_sequences(X_train, maxlen = max_length)\n",
    "\n",
    "X_test = tokenizer.texts_to_sequences(test_data)\n",
    "X_test_pad = pad_sequences(X_test, maxlen = max_length)\n",
    "\n",
    "# add validation\n",
    "shuffle_index =  np.random.permutation(25000)\n",
    "X_val, Y_val = X_test_pad[:8333], test_label[:8333]"
   ]
  },
  {
   "cell_type": "code",
   "execution_count": null,
   "metadata": {},
   "outputs": [],
   "source": [
    "from tensorflow.keras.models import Sequential\n",
    "from tensorflow.keras.layers import LSTM, Dense, Dropout, Embedding, SpatialDropout1D, SimpleRNN\n",
    "from sklearn.metrics import classification_report\n",
    "vocab_size = len(tokenizer.word_index) + 1\n",
    "X_train_pad.shape"
   ]
  },
  {
   "cell_type": "markdown",
   "metadata": {},
   "source": [
    "Vanilla RNN model"
   ]
  },
  {
   "cell_type": "code",
   "execution_count": null,
   "metadata": {},
   "outputs": [],
   "source": [
    "def model_vrnn(dim, lr):\n",
    "    model1 = Sequential()\n",
    "    model1.add(Embedding(vocab_size, 20, input_length=500))\n",
    "    model1.add(SpatialDropout1D(rate = 0.3))\n",
    "    model1.add(SimpleRNN(dim))\n",
    "    model1.add(Dense(2, activation = 'softmax'))\n",
    "    model1.compile(optimizer = tf.keras.optimizers.Adam(lr), loss = 'sparse_categorical_crossentropy', metrics = ['accuracy'])\n",
    "    model1.summary()\n",
    "    return model1"
   ]
  },
  {
   "cell_type": "markdown",
   "metadata": {},
   "source": [
    "LSTM model"
   ]
  },
  {
   "cell_type": "code",
   "execution_count": 17,
   "metadata": {},
   "outputs": [],
   "source": [
    "def lstm(dim, lr):\n",
    "    model = Sequential()\n",
    "    model.add(Embedding(vocab_size, dim, input_length = 500))\n",
    "    model.add(SpatialDropout1D(rate = 0.3))\n",
    "    model.add(LSTM(dim, dropout = 0.3, recurrent_dropout = 0.3))\n",
    "    model.add(Dense(2, activation = 'softmax'))\n",
    "    model.compile(optimizer = tf.keras.optimizers.Adam(lr), loss = 'sparse_categorical_crossentropy', metrics = ['accuracy'])\n",
    "    model.summary()\n",
    "    return model"
   ]
  },
  {
   "cell_type": "markdown",
   "metadata": {},
   "source": [
    "### Vanilla RNN"
   ]
  },
  {
   "cell_type": "code",
   "execution_count": 27,
   "metadata": {},
   "outputs": [
    {
     "name": "stdout",
     "output_type": "stream",
     "text": [
      "Model: \"sequential_12\"\n",
      "_________________________________________________________________\n",
      "Layer (type)                 Output Shape              Param #   \n",
      "=================================================================\n",
      "embedding_12 (Embedding)     (None, 500, 20)           2485060   \n",
      "_________________________________________________________________\n",
      "spatial_dropout1d_12 (Spatia (None, 500, 20)           0         \n",
      "_________________________________________________________________\n",
      "simple_rnn_12 (SimpleRNN)    (None, 20)                820       \n",
      "_________________________________________________________________\n",
      "dense_12 (Dense)             (None, 2)                 42        \n",
      "=================================================================\n",
      "Total params: 2,485,922\n",
      "Trainable params: 2,485,922\n",
      "Non-trainable params: 0\n",
      "_________________________________________________________________\n",
      "Train on 25000 samples, validate on 8333 samples\n",
      "Epoch 1/10\n",
      "25000/25000 [==============================] - 34s 1ms/sample - loss: 0.6890 - acc: 0.5368 - val_loss: 0.6605 - val_acc: 0.6619\n",
      "Epoch 2/10\n",
      "25000/25000 [==============================] - 33s 1ms/sample - loss: 0.5413 - acc: 0.7272 - val_loss: 0.4225 - val_acc: 0.8033\n",
      "Epoch 3/10\n",
      "25000/25000 [==============================] - 35s 1ms/sample - loss: 0.4492 - acc: 0.7926 - val_loss: 0.4541 - val_acc: 0.7847\n",
      "Epoch 4/10\n",
      "25000/25000 [==============================] - 36s 1ms/sample - loss: 0.4687 - acc: 0.7840 - val_loss: 0.4153 - val_acc: 0.8255\n",
      "Epoch 5/10\n",
      "25000/25000 [==============================] - 34s 1ms/sample - loss: 0.4273 - acc: 0.8091 - val_loss: 0.3765 - val_acc: 0.8400\n",
      "Epoch 6/10\n",
      "25000/25000 [==============================] - 39s 2ms/sample - loss: 0.4188 - acc: 0.8135 - val_loss: 0.4513 - val_acc: 0.8030\n",
      "Epoch 7/10\n",
      "25000/25000 [==============================] - 40s 2ms/sample - loss: 0.4261 - acc: 0.8073 - val_loss: 0.4078 - val_acc: 0.8399\n",
      "Epoch 8/10\n",
      "25000/25000 [==============================] - 54s 2ms/sample - loss: 0.4060 - acc: 0.8180 - val_loss: 0.4055 - val_acc: 0.8348\n",
      "Epoch 9/10\n",
      "25000/25000 [==============================] - 37s 1ms/sample - loss: 0.4012 - acc: 0.8218 - val_loss: 0.3920 - val_acc: 0.8440\n",
      "Epoch 10/10\n",
      "25000/25000 [==============================] - 35s 1ms/sample - loss: 0.3899 - acc: 0.8293 - val_loss: 0.4881 - val_acc: 0.7852\n"
     ]
    }
   ],
   "source": [
    "# dim = 20\n",
    "model_r20 = model_vrnn(20,1e-3) \n",
    "\n",
    "history_r20 = model_r20.fit(X_train_pad, train_label, batch_size = 128, epochs = 10, validation_data = (X_val, Y_val))\n"
   ]
  },
  {
   "cell_type": "code",
   "execution_count": 29,
   "metadata": {},
   "outputs": [
    {
     "name": "stdout",
     "output_type": "stream",
     "text": [
      "Model: \"sequential_13\"\n",
      "_________________________________________________________________\n",
      "Layer (type)                 Output Shape              Param #   \n",
      "=================================================================\n",
      "embedding_13 (Embedding)     (None, 500, 20)           2485060   \n",
      "_________________________________________________________________\n",
      "spatial_dropout1d_13 (Spatia (None, 500, 20)           0         \n",
      "_________________________________________________________________\n",
      "simple_rnn_13 (SimpleRNN)    (None, 20)                820       \n",
      "_________________________________________________________________\n",
      "dense_13 (Dense)             (None, 2)                 42        \n",
      "=================================================================\n",
      "Total params: 2,485,922\n",
      "Trainable params: 2,485,922\n",
      "Non-trainable params: 0\n",
      "_________________________________________________________________\n",
      "Train on 25000 samples, validate on 8333 samples\n",
      "Epoch 1/10\n",
      "25000/25000 [==============================] - 34s 1ms/sample - loss: 0.6908 - acc: 0.5352 - val_loss: 0.5870 - val_acc: 0.8262\n",
      "Epoch 2/10\n",
      "25000/25000 [==============================] - 34s 1ms/sample - loss: 0.6562 - acc: 0.6164 - val_loss: 0.5446 - val_acc: 0.8482\n",
      "Epoch 3/10\n",
      "25000/25000 [==============================] - 34s 1ms/sample - loss: 0.6134 - acc: 0.6804 - val_loss: 0.4923 - val_acc: 0.8651\n",
      "Epoch 4/10\n",
      "25000/25000 [==============================] - 33s 1ms/sample - loss: 0.5653 - acc: 0.7253 - val_loss: 0.4859 - val_acc: 0.8343\n",
      "Epoch 5/10\n",
      "25000/25000 [==============================] - 34s 1ms/sample - loss: 0.5237 - acc: 0.7542 - val_loss: 0.4363 - val_acc: 0.8567\n",
      "Epoch 6/10\n",
      "25000/25000 [==============================] - 33s 1ms/sample - loss: 0.4951 - acc: 0.7730 - val_loss: 0.4039 - val_acc: 0.8634\n",
      "Epoch 7/10\n",
      "25000/25000 [==============================] - 33s 1ms/sample - loss: 0.4738 - acc: 0.7847 - val_loss: 0.3901 - val_acc: 0.8628\n",
      "Epoch 8/10\n",
      "25000/25000 [==============================] - 32s 1ms/sample - loss: 0.4606 - acc: 0.7904 - val_loss: 0.4120 - val_acc: 0.8369\n",
      "Epoch 9/10\n",
      "25000/25000 [==============================] - 33s 1ms/sample - loss: 0.4506 - acc: 0.7957 - val_loss: 0.3774 - val_acc: 0.8556\n",
      "Epoch 10/10\n",
      "25000/25000 [==============================] - 33s 1ms/sample - loss: 0.4422 - acc: 0.8016 - val_loss: 0.3408 - val_acc: 0.8764\n"
     ]
    }
   ],
   "source": [
    "# dim = 20\n",
    "model_r201 = model_vrnn(20,1e-4) \n",
    "\n",
    "history_r201 = model_r201.fit(X_train_pad, train_label, batch_size = 128, epochs = 10, validation_data = (X_val, Y_val))\n"
   ]
  },
  {
   "cell_type": "code",
   "execution_count": 30,
   "metadata": {},
   "outputs": [
    {
     "name": "stdout",
     "output_type": "stream",
     "text": [
      "              precision    recall  f1-score   support\n",
      "\n",
      "           0       0.73      0.86      0.79     10701\n",
      "           1       0.88      0.77      0.82     14299\n",
      "\n",
      "    accuracy                           0.80     25000\n",
      "   macro avg       0.80      0.81      0.80     25000\n",
      "weighted avg       0.82      0.80      0.81     25000\n",
      "\n",
      "25000/25000 [==============================] - 60s 2ms/sample - loss: 0.4365 - acc: 0.8047\n"
     ]
    }
   ],
   "source": [
    "# with 1e-4 lr\n",
    "prediction = model_r201.predict_classes(X_test_pad)\n",
    "print(classification_report(prediction, test_label))\n",
    "acc, loss = model_r201.evaluate(X_test_pad, test_label)"
   ]
  },
  {
   "cell_type": "code",
   "execution_count": 26,
   "metadata": {},
   "outputs": [
    {
     "name": "stdout",
     "output_type": "stream",
     "text": [
      "25000/25000 [==============================] - 69s 3ms/sample - loss: 0.6807 - acc: 0.5665\n"
     ]
    }
   ],
   "source": [
    "# with 1e-2 lr\n",
    "acc, loss = model_r20.evaluate(X_test_pad, test_label)"
   ]
  },
  {
   "cell_type": "code",
   "execution_count": 28,
   "metadata": {},
   "outputs": [
    {
     "name": "stdout",
     "output_type": "stream",
     "text": [
      "25000/25000 [==============================] - 60s 2ms/sample - loss: 0.4213 - acc: 0.8146\n"
     ]
    }
   ],
   "source": [
    "# with 1e-3 lr\n",
    "acc, loss = model_r20.evaluate(X_test_pad, test_label)"
   ]
  },
  {
   "cell_type": "code",
   "execution_count": 22,
   "metadata": {},
   "outputs": [
    {
     "name": "stdout",
     "output_type": "stream",
     "text": [
      "Model: \"sequential_10\"\n",
      "_________________________________________________________________\n",
      "Layer (type)                 Output Shape              Param #   \n",
      "=================================================================\n",
      "embedding_10 (Embedding)     (None, 500, 20)           2485060   \n",
      "_________________________________________________________________\n",
      "spatial_dropout1d_10 (Spatia (None, 500, 20)           0         \n",
      "_________________________________________________________________\n",
      "simple_rnn_10 (SimpleRNN)    (None, 50)                3550      \n",
      "_________________________________________________________________\n",
      "dense_10 (Dense)             (None, 2)                 102       \n",
      "=================================================================\n",
      "Total params: 2,488,712\n",
      "Trainable params: 2,488,712\n",
      "Non-trainable params: 0\n",
      "_________________________________________________________________\n",
      "Train on 25000 samples, validate on 8333 samples\n",
      "Epoch 1/10\n",
      "25000/25000 [==============================] - 35s 1ms/sample - loss: 0.6235 - acc: 0.6284 - val_loss: 0.3964 - val_acc: 0.8375\n",
      "Epoch 2/10\n",
      "25000/25000 [==============================] - 37s 1ms/sample - loss: 0.6201 - acc: 0.6608 - val_loss: 0.7347 - val_acc: 0.5399\n",
      "Epoch 3/10\n",
      "25000/25000 [==============================] - 43s 2ms/sample - loss: 0.4821 - acc: 0.7736 - val_loss: 0.3549 - val_acc: 0.8501\n",
      "Epoch 4/10\n",
      "25000/25000 [==============================] - 37s 1ms/sample - loss: 0.4396 - acc: 0.7992 - val_loss: 0.4804 - val_acc: 0.7756\n",
      "Epoch 5/10\n",
      "25000/25000 [==============================] - 36s 1ms/sample - loss: 0.4304 - acc: 0.8056 - val_loss: 0.4042 - val_acc: 0.8260\n",
      "Epoch 6/10\n",
      "25000/25000 [==============================] - 36s 1ms/sample - loss: 0.4918 - acc: 0.7540 - val_loss: 0.6546 - val_acc: 0.6778\n",
      "Epoch 7/10\n",
      "25000/25000 [==============================] - 36s 1ms/sample - loss: 0.6255 - acc: 0.6490 - val_loss: 0.4970 - val_acc: 0.8150\n",
      "Epoch 8/10\n",
      "25000/25000 [==============================] - 35s 1ms/sample - loss: 0.6878 - acc: 0.5937 - val_loss: 0.6239 - val_acc: 0.7159\n",
      "Epoch 9/10\n",
      "25000/25000 [==============================] - 34s 1ms/sample - loss: 0.6449 - acc: 0.6165 - val_loss: 0.6080 - val_acc: 0.7014\n",
      "Epoch 10/10\n",
      "25000/25000 [==============================] - 35s 1ms/sample - loss: 0.6291 - acc: 0.6385 - val_loss: 0.7186 - val_acc: 0.4980\n"
     ]
    }
   ],
   "source": [
    "# dim = 50\n",
    "# lr = (1e-3)\n",
    "model_r50 = model_vrnn(50,1e-3) \n",
    "history_r50 = model_r50.fit(X_train_pad, train_label, batch_size = 128, epochs = 10, validation_data = (X_val, Y_val))\n"
   ]
  },
  {
   "cell_type": "code",
   "execution_count": 24,
   "metadata": {},
   "outputs": [
    {
     "name": "stdout",
     "output_type": "stream",
     "text": [
      "25000/25000 [==============================] - 62s 2ms/sample - loss: 0.6312 - acc: 0.6259\n",
      "0.6312205806446075\n",
      "0.62592\n"
     ]
    }
   ],
   "source": [
    "acc, loss = model_r50.evaluate(X_test_pad, test_label)\n",
    "print(acc)\n",
    "print(loss)"
   ]
  },
  {
   "cell_type": "code",
   "execution_count": 31,
   "metadata": {},
   "outputs": [
    {
     "name": "stdout",
     "output_type": "stream",
     "text": [
      "Model: \"sequential_14\"\n",
      "_________________________________________________________________\n",
      "Layer (type)                 Output Shape              Param #   \n",
      "=================================================================\n",
      "embedding_14 (Embedding)     (None, 500, 20)           2485060   \n",
      "_________________________________________________________________\n",
      "spatial_dropout1d_14 (Spatia (None, 500, 20)           0         \n",
      "_________________________________________________________________\n",
      "simple_rnn_14 (SimpleRNN)    (None, 50)                3550      \n",
      "_________________________________________________________________\n",
      "dense_14 (Dense)             (None, 2)                 102       \n",
      "=================================================================\n",
      "Total params: 2,488,712\n",
      "Trainable params: 2,488,712\n",
      "Non-trainable params: 0\n",
      "_________________________________________________________________\n",
      "Train on 25000 samples, validate on 8333 samples\n",
      "Epoch 1/10\n",
      "25000/25000 [==============================] - 36s 1ms/sample - loss: 0.7005 - acc: 0.4976 - val_loss: 0.7359 - val_acc: 0.2348\n",
      "Epoch 2/10\n",
      "25000/25000 [==============================] - 34s 1ms/sample - loss: 0.6916 - acc: 0.5205 - val_loss: 0.6883 - val_acc: 0.5400\n",
      "Epoch 3/10\n",
      "25000/25000 [==============================] - 37s 1ms/sample - loss: 0.6874 - acc: 0.5459 - val_loss: 0.6754 - val_acc: 0.6226\n",
      "Epoch 4/10\n",
      "25000/25000 [==============================] - 33s 1ms/sample - loss: 0.6811 - acc: 0.5689 - val_loss: 0.6230 - val_acc: 0.8158\n",
      "Epoch 5/10\n",
      "25000/25000 [==============================] - 33s 1ms/sample - loss: 0.6244 - acc: 0.6500 - val_loss: 0.5402 - val_acc: 0.7267\n",
      "Epoch 6/10\n",
      "25000/25000 [==============================] - 35s 1ms/sample - loss: 0.5237 - acc: 0.7453 - val_loss: 0.5387 - val_acc: 0.7140\n",
      "Epoch 7/10\n",
      "25000/25000 [==============================] - 33s 1ms/sample - loss: 0.4873 - acc: 0.7691 - val_loss: 0.4119 - val_acc: 0.8061\n",
      "Epoch 8/10\n",
      "25000/25000 [==============================] - 34s 1ms/sample - loss: 0.4617 - acc: 0.7853 - val_loss: 0.5769 - val_acc: 0.6888\n",
      "Epoch 9/10\n",
      "25000/25000 [==============================] - 34s 1ms/sample - loss: 0.4413 - acc: 0.7994 - val_loss: 0.4345 - val_acc: 0.7899\n",
      "Epoch 10/10\n",
      "25000/25000 [==============================] - 34s 1ms/sample - loss: 0.4264 - acc: 0.8058 - val_loss: 0.4074 - val_acc: 0.8122\n",
      "25000/25000 [==============================] - 62s 2ms/sample - loss: 0.4038 - acc: 0.8225\n"
     ]
    }
   ],
   "source": [
    "# dim = 50\n",
    "\n",
    "model_r50 = model_vrnn(50,1e-4) \n",
    "history_r50 = model_r50.fit(X_train_pad, train_label, batch_size = 128, epochs = 10, validation_data = (X_val, Y_val))\n",
    "acc, loss = model_r50.evaluate(X_test_pad, test_label)"
   ]
  },
  {
   "cell_type": "code",
   "execution_count": 32,
   "metadata": {},
   "outputs": [
    {
     "name": "stdout",
     "output_type": "stream",
     "text": [
      "Model: \"sequential_15\"\n",
      "_________________________________________________________________\n",
      "Layer (type)                 Output Shape              Param #   \n",
      "=================================================================\n",
      "embedding_15 (Embedding)     (None, 500, 20)           2485060   \n",
      "_________________________________________________________________\n",
      "spatial_dropout1d_15 (Spatia (None, 500, 20)           0         \n",
      "_________________________________________________________________\n",
      "simple_rnn_15 (SimpleRNN)    (None, 50)                3550      \n",
      "_________________________________________________________________\n",
      "dense_15 (Dense)             (None, 2)                 102       \n",
      "=================================================================\n",
      "Total params: 2,488,712\n",
      "Trainable params: 2,488,712\n",
      "Non-trainable params: 0\n",
      "_________________________________________________________________\n",
      "Train on 25000 samples, validate on 8333 samples\n",
      "Epoch 1/10\n",
      "25000/25000 [==============================] - 35s 1ms/sample - loss: 0.6643 - acc: 0.5894 - val_loss: 0.5727 - val_acc: 0.7463\n",
      "Epoch 2/10\n",
      "25000/25000 [==============================] - 34s 1ms/sample - loss: 0.6070 - acc: 0.6680 - val_loss: 0.3962 - val_acc: 0.9784\n",
      "Epoch 3/10\n",
      "25000/25000 [==============================] - 35s 1ms/sample - loss: 0.6403 - acc: 0.6266 - val_loss: 0.5261 - val_acc: 0.7716\n",
      "Epoch 4/10\n",
      "25000/25000 [==============================] - 34s 1ms/sample - loss: 0.6236 - acc: 0.6486 - val_loss: 0.4190 - val_acc: 0.9076\n",
      "Epoch 5/10\n",
      "25000/25000 [==============================] - 36s 1ms/sample - loss: 0.6413 - acc: 0.6223 - val_loss: 0.7356 - val_acc: 0.2242\n",
      "Epoch 6/10\n",
      "25000/25000 [==============================] - 34s 1ms/sample - loss: 0.6590 - acc: 0.5891 - val_loss: 0.6858 - val_acc: 0.5675\n",
      "Epoch 7/10\n",
      "25000/25000 [==============================] - 34s 1ms/sample - loss: 0.6256 - acc: 0.6398 - val_loss: 1.0275 - val_acc: 0.2611\n",
      "Epoch 8/10\n",
      "25000/25000 [==============================] - 36s 1ms/sample - loss: 0.6333 - acc: 0.6274 - val_loss: 0.6100 - val_acc: 0.9358\n",
      "Epoch 9/10\n",
      "25000/25000 [==============================] - 36s 1ms/sample - loss: 0.6413 - acc: 0.6312 - val_loss: 0.4512 - val_acc: 0.8356\n",
      "Epoch 10/10\n",
      "25000/25000 [==============================] - 35s 1ms/sample - loss: 0.6398 - acc: 0.6211 - val_loss: 0.7889 - val_acc: 0.4209\n",
      "25000/25000 [==============================] - 66s 3ms/sample - loss: 0.6317 - acc: 0.6218\n"
     ]
    }
   ],
   "source": [
    "# dim = 50\n",
    "\n",
    "model_r50 = model_vrnn(50,1e-2) \n",
    "history_r50 = model_r50.fit(X_train_pad, train_label, batch_size = 128, epochs = 10, validation_data = (X_val, Y_val))\n",
    "acc, loss = model_r50.evaluate(X_test_pad, test_label)"
   ]
  },
  {
   "cell_type": "code",
   "execution_count": null,
   "metadata": {},
   "outputs": [],
   "source": []
  },
  {
   "cell_type": "code",
   "execution_count": 33,
   "metadata": {},
   "outputs": [
    {
     "name": "stdout",
     "output_type": "stream",
     "text": [
      "Model: \"sequential_16\"\n",
      "_________________________________________________________________\n",
      "Layer (type)                 Output Shape              Param #   \n",
      "=================================================================\n",
      "embedding_16 (Embedding)     (None, 500, 20)           2485060   \n",
      "_________________________________________________________________\n",
      "spatial_dropout1d_16 (Spatia (None, 500, 20)           0         \n",
      "_________________________________________________________________\n",
      "simple_rnn_16 (SimpleRNN)    (None, 100)               12100     \n",
      "_________________________________________________________________\n",
      "dense_16 (Dense)             (None, 2)                 202       \n",
      "=================================================================\n",
      "Total params: 2,497,362\n",
      "Trainable params: 2,497,362\n",
      "Non-trainable params: 0\n",
      "_________________________________________________________________\n",
      "Train on 25000 samples, validate on 8333 samples\n",
      "Epoch 1/5\n",
      "25000/25000 [==============================] - 37s 1ms/sample - loss: 0.6974 - acc: 0.5052 - val_loss: 0.6957 - val_acc: 0.5092\n",
      "Epoch 2/5\n",
      "25000/25000 [==============================] - 32s 1ms/sample - loss: 0.6942 - acc: 0.5179 - val_loss: 0.6729 - val_acc: 0.6132\n",
      "Epoch 3/5\n",
      "25000/25000 [==============================] - 34s 1ms/sample - loss: 0.6907 - acc: 0.5347 - val_loss: 0.6988 - val_acc: 0.4885\n",
      "Epoch 4/5\n",
      "25000/25000 [==============================] - 32s 1ms/sample - loss: 0.6878 - acc: 0.5458 - val_loss: 0.7116 - val_acc: 0.4482\n",
      "Epoch 5/5\n",
      "25000/25000 [==============================] - 32s 1ms/sample - loss: 0.6825 - acc: 0.5641 - val_loss: 0.6445 - val_acc: 0.6985\n",
      "25000/25000 [==============================] - 59s 2ms/sample - loss: 0.6755 - acc: 0.5856\n"
     ]
    }
   ],
   "source": [
    "# dim = 100\n",
    "# lr = (1e-5)\n",
    "model_r100 = model_vrnn(100,1e-5) \n",
    "history_r100 = model_r100.fit(X_train_pad, train_label, batch_size = 128, epochs = 5, validation_data = (X_val, Y_val))\n",
    "acc, loss = model_r100.evaluate(X_test_pad, test_label)"
   ]
  },
  {
   "cell_type": "code",
   "execution_count": 34,
   "metadata": {},
   "outputs": [
    {
     "name": "stdout",
     "output_type": "stream",
     "text": [
      "Model: \"sequential_17\"\n",
      "_________________________________________________________________\n",
      "Layer (type)                 Output Shape              Param #   \n",
      "=================================================================\n",
      "embedding_17 (Embedding)     (None, 500, 20)           2485060   \n",
      "_________________________________________________________________\n",
      "spatial_dropout1d_17 (Spatia (None, 500, 20)           0         \n",
      "_________________________________________________________________\n",
      "simple_rnn_17 (SimpleRNN)    (None, 100)               12100     \n",
      "_________________________________________________________________\n",
      "dense_17 (Dense)             (None, 2)                 202       \n",
      "=================================================================\n",
      "Total params: 2,497,362\n",
      "Trainable params: 2,497,362\n",
      "Non-trainable params: 0\n",
      "_________________________________________________________________\n",
      "Train on 25000 samples, validate on 8333 samples\n",
      "Epoch 1/5\n",
      "25000/25000 [==============================] - 33s 1ms/sample - loss: 0.6943 - acc: 0.5154 - val_loss: 0.6104 - val_acc: 0.9635\n",
      "Epoch 2/5\n",
      "25000/25000 [==============================] - 33s 1ms/sample - loss: 0.6883 - acc: 0.5382 - val_loss: 0.6695 - val_acc: 0.6275\n",
      "Epoch 3/5\n",
      "25000/25000 [==============================] - 33s 1ms/sample - loss: 0.6642 - acc: 0.6006 - val_loss: 0.6428 - val_acc: 0.6405\n",
      "Epoch 4/5\n",
      "25000/25000 [==============================] - 33s 1ms/sample - loss: 0.5676 - acc: 0.7116 - val_loss: 0.5331 - val_acc: 0.7234\n",
      "Epoch 5/5\n",
      "25000/25000 [==============================] - 33s 1ms/sample - loss: 0.5015 - acc: 0.7587 - val_loss: 0.4903 - val_acc: 0.7528\n",
      "25000/25000 [==============================] - 59s 2ms/sample - loss: 0.4583 - acc: 0.7882\n"
     ]
    }
   ],
   "source": [
    "model_r100 = model_vrnn(100,1e-4) \n",
    "history_r100 = model_r100.fit(X_train_pad, train_label, batch_size = 128, epochs = 5, validation_data = (X_val, Y_val))\n",
    "acc, loss = model_r100.evaluate(X_test_pad, test_label)"
   ]
  },
  {
   "cell_type": "code",
   "execution_count": 35,
   "metadata": {},
   "outputs": [
    {
     "name": "stdout",
     "output_type": "stream",
     "text": [
      "Model: \"sequential_18\"\n",
      "_________________________________________________________________\n",
      "Layer (type)                 Output Shape              Param #   \n",
      "=================================================================\n",
      "embedding_18 (Embedding)     (None, 500, 20)           2485060   \n",
      "_________________________________________________________________\n",
      "spatial_dropout1d_18 (Spatia (None, 500, 20)           0         \n",
      "_________________________________________________________________\n",
      "simple_rnn_18 (SimpleRNN)    (None, 100)               12100     \n",
      "_________________________________________________________________\n",
      "dense_18 (Dense)             (None, 2)                 202       \n",
      "=================================================================\n",
      "Total params: 2,497,362\n",
      "Trainable params: 2,497,362\n",
      "Non-trainable params: 0\n",
      "_________________________________________________________________\n",
      "Train on 25000 samples, validate on 8333 samples\n",
      "Epoch 1/5\n",
      "25000/25000 [==============================] - 33s 1ms/sample - loss: 0.6915 - acc: 0.5264 - val_loss: 0.7524 - val_acc: 0.2399\n",
      "Epoch 2/5\n",
      "25000/25000 [==============================] - 33s 1ms/sample - loss: 0.6768 - acc: 0.5678 - val_loss: 0.6146 - val_acc: 0.8066\n",
      "Epoch 3/5\n",
      "25000/25000 [==============================] - 32s 1ms/sample - loss: 0.6656 - acc: 0.5896 - val_loss: 0.6068 - val_acc: 0.7688\n",
      "Epoch 4/5\n",
      "25000/25000 [==============================] - 33s 1ms/sample - loss: 0.6262 - acc: 0.6402 - val_loss: 0.7076 - val_acc: 0.5538\n",
      "Epoch 5/5\n",
      "25000/25000 [==============================] - 33s 1ms/sample - loss: 0.6110 - acc: 0.6635 - val_loss: 0.5269 - val_acc: 0.7557\n",
      "25000/25000 [==============================] - 59s 2ms/sample - loss: 0.5405 - acc: 0.7334\n"
     ]
    }
   ],
   "source": [
    "model_r100 = model_vrnn(100,1e-3) \n",
    "history_r100 = model_r100.fit(X_train_pad, train_label, batch_size = 128, epochs = 5, validation_data = (X_val, Y_val))\n",
    "acc, loss = model_r100.evaluate(X_test_pad, test_label)"
   ]
  },
  {
   "cell_type": "code",
   "execution_count": null,
   "metadata": {},
   "outputs": [],
   "source": []
  },
  {
   "cell_type": "code",
   "execution_count": 36,
   "metadata": {},
   "outputs": [
    {
     "name": "stdout",
     "output_type": "stream",
     "text": [
      "Model: \"sequential_19\"\n",
      "_________________________________________________________________\n",
      "Layer (type)                 Output Shape              Param #   \n",
      "=================================================================\n",
      "embedding_19 (Embedding)     (None, 500, 20)           2485060   \n",
      "_________________________________________________________________\n",
      "spatial_dropout1d_19 (Spatia (None, 500, 20)           0         \n",
      "_________________________________________________________________\n",
      "simple_rnn_19 (SimpleRNN)    (None, 200)               44200     \n",
      "_________________________________________________________________\n",
      "dense_19 (Dense)             (None, 2)                 402       \n",
      "=================================================================\n",
      "Total params: 2,529,662\n",
      "Trainable params: 2,529,662\n",
      "Non-trainable params: 0\n",
      "_________________________________________________________________\n",
      "Train on 25000 samples, validate on 8333 samples\n",
      "Epoch 1/5\n",
      "25000/25000 [==============================] - 33s 1ms/sample - loss: 0.6946 - acc: 0.5112 - val_loss: 0.7035 - val_acc: 0.4750\n",
      "Epoch 2/5\n",
      "25000/25000 [==============================] - 32s 1ms/sample - loss: 0.6890 - acc: 0.5394 - val_loss: 0.6711 - val_acc: 0.6016\n",
      "Epoch 3/5\n",
      "25000/25000 [==============================] - 32s 1ms/sample - loss: 0.6588 - acc: 0.6098 - val_loss: 0.5740 - val_acc: 0.7264\n",
      "Epoch 4/5\n",
      "25000/25000 [==============================] - 32s 1ms/sample - loss: 0.6036 - acc: 0.6786 - val_loss: 0.3706 - val_acc: 0.8638\n",
      "Epoch 5/5\n",
      "25000/25000 [==============================] - 32s 1ms/sample - loss: 0.4959 - acc: 0.7598 - val_loss: 0.3913 - val_acc: 0.8340\n",
      "25000/25000 [==============================] - 58s 2ms/sample - loss: 0.4468 - acc: 0.7908\n"
     ]
    }
   ],
   "source": [
    "# dim = 200\n",
    "# lr = (1e-4)\n",
    "model_r200 = model_vrnn(200,1e-4) \n",
    "history_r200 = model_r200.fit(X_train_pad, train_label, batch_size = 128, epochs = 5, validation_data = (X_val, Y_val))\n",
    "acc, loss = model_r200.evaluate(X_test_pad, test_label)"
   ]
  },
  {
   "cell_type": "code",
   "execution_count": 37,
   "metadata": {},
   "outputs": [
    {
     "name": "stdout",
     "output_type": "stream",
     "text": [
      "Model: \"sequential_20\"\n",
      "_________________________________________________________________\n",
      "Layer (type)                 Output Shape              Param #   \n",
      "=================================================================\n",
      "embedding_20 (Embedding)     (None, 500, 20)           2485060   \n",
      "_________________________________________________________________\n",
      "spatial_dropout1d_20 (Spatia (None, 500, 20)           0         \n",
      "_________________________________________________________________\n",
      "simple_rnn_20 (SimpleRNN)    (None, 200)               44200     \n",
      "_________________________________________________________________\n",
      "dense_20 (Dense)             (None, 2)                 402       \n",
      "=================================================================\n",
      "Total params: 2,529,662\n",
      "Trainable params: 2,529,662\n",
      "Non-trainable params: 0\n",
      "_________________________________________________________________\n",
      "Train on 25000 samples, validate on 8333 samples\n",
      "Epoch 1/5\n",
      "25000/25000 [==============================] - 33s 1ms/sample - loss: 0.6976 - acc: 0.4983 - val_loss: 0.6933 - val_acc: 0.5214\n",
      "Epoch 2/5\n",
      "25000/25000 [==============================] - 32s 1ms/sample - loss: 0.6958 - acc: 0.5027 - val_loss: 0.6822 - val_acc: 0.5961\n",
      "Epoch 3/5\n",
      "25000/25000 [==============================] - 32s 1ms/sample - loss: 0.6938 - acc: 0.5091 - val_loss: 0.6765 - val_acc: 0.6556\n",
      "Epoch 4/5\n",
      "25000/25000 [==============================] - 32s 1ms/sample - loss: 0.6929 - acc: 0.5121 - val_loss: 0.6951 - val_acc: 0.4909\n",
      "Epoch 5/5\n",
      "25000/25000 [==============================] - 32s 1ms/sample - loss: 0.6930 - acc: 0.5122 - val_loss: 0.6977 - val_acc: 0.4660\n",
      "25000/25000 [==============================] - 58s 2ms/sample - loss: 0.6932 - acc: 0.5108\n"
     ]
    }
   ],
   "source": [
    "# dim = 200\n",
    "model_r200 = model_vrnn(200,1e-5) \n",
    "history_r200 = model_r200.fit(X_train_pad, train_label, batch_size = 128, epochs = 5, validation_data = (X_val, Y_val))\n",
    "acc, loss = model_r200.evaluate(X_test_pad, test_label)"
   ]
  },
  {
   "cell_type": "code",
   "execution_count": 38,
   "metadata": {},
   "outputs": [
    {
     "name": "stdout",
     "output_type": "stream",
     "text": [
      "Model: \"sequential_21\"\n",
      "_________________________________________________________________\n",
      "Layer (type)                 Output Shape              Param #   \n",
      "=================================================================\n",
      "embedding_21 (Embedding)     (None, 500, 20)           2485060   \n",
      "_________________________________________________________________\n",
      "spatial_dropout1d_21 (Spatia (None, 500, 20)           0         \n",
      "_________________________________________________________________\n",
      "simple_rnn_21 (SimpleRNN)    (None, 200)               44200     \n",
      "_________________________________________________________________\n",
      "dense_21 (Dense)             (None, 2)                 402       \n",
      "=================================================================\n",
      "Total params: 2,529,662\n",
      "Trainable params: 2,529,662\n",
      "Non-trainable params: 0\n",
      "_________________________________________________________________\n",
      "Train on 25000 samples, validate on 8333 samples\n",
      "Epoch 1/5\n",
      "25000/25000 [==============================] - 32s 1ms/sample - loss: 0.7006 - acc: 0.5048 - val_loss: 0.8262 - val_acc: 9.6004e-04\n",
      "Epoch 2/5\n",
      "25000/25000 [==============================] - 32s 1ms/sample - loss: 0.6895 - acc: 0.5374 - val_loss: 0.7509 - val_acc: 0.2579\n",
      "Epoch 3/5\n",
      "25000/25000 [==============================] - 32s 1ms/sample - loss: 0.6743 - acc: 0.5744 - val_loss: 0.6799 - val_acc: 0.5699\n",
      "Epoch 4/5\n",
      "25000/25000 [==============================] - 32s 1ms/sample - loss: 0.6815 - acc: 0.5570 - val_loss: 0.5509 - val_acc: 0.8620\n",
      "Epoch 5/5\n",
      "25000/25000 [==============================] - 32s 1ms/sample - loss: 0.6703 - acc: 0.5756 - val_loss: 0.6268 - val_acc: 0.7361\n",
      "25000/25000 [==============================] - 58s 2ms/sample - loss: 0.6641 - acc: 0.5784\n"
     ]
    }
   ],
   "source": [
    "# dim = 200\n",
    "model_r200 = model_vrnn(200,1e-3) \n",
    "history_r200 = model_r200.fit(X_train_pad, train_label, batch_size = 128, epochs = 5, validation_data = (X_val, Y_val))\n",
    "acc, loss = model_r200.evaluate(X_test_pad, test_label)"
   ]
  },
  {
   "cell_type": "code",
   "execution_count": null,
   "metadata": {},
   "outputs": [],
   "source": []
  },
  {
   "cell_type": "code",
   "execution_count": 39,
   "metadata": {},
   "outputs": [
    {
     "name": "stdout",
     "output_type": "stream",
     "text": [
      "Model: \"sequential_22\"\n",
      "_________________________________________________________________\n",
      "Layer (type)                 Output Shape              Param #   \n",
      "=================================================================\n",
      "embedding_22 (Embedding)     (None, 500, 20)           2485060   \n",
      "_________________________________________________________________\n",
      "spatial_dropout1d_22 (Spatia (None, 500, 20)           0         \n",
      "_________________________________________________________________\n",
      "simple_rnn_22 (SimpleRNN)    (None, 500)               260500    \n",
      "_________________________________________________________________\n",
      "dense_22 (Dense)             (None, 2)                 1002      \n",
      "=================================================================\n",
      "Total params: 2,746,562\n",
      "Trainable params: 2,746,562\n",
      "Non-trainable params: 0\n",
      "_________________________________________________________________\n",
      "Train on 25000 samples, validate on 8333 samples\n",
      "Epoch 1/5\n",
      "25000/25000 [==============================] - 34s 1ms/sample - loss: 0.6950 - acc: 0.5057 - val_loss: 0.7270 - val_acc: 0.3132\n",
      "Epoch 2/5\n",
      "25000/25000 [==============================] - 34s 1ms/sample - loss: 0.6900 - acc: 0.5357 - val_loss: 0.6984 - val_acc: 0.4642\n",
      "Epoch 3/5\n",
      "25000/25000 [==============================] - 33s 1ms/sample - loss: 0.6847 - acc: 0.5550 - val_loss: 0.6527 - val_acc: 0.7125\n",
      "Epoch 4/5\n",
      "25000/25000 [==============================] - 34s 1ms/sample - loss: 0.6771 - acc: 0.5790 - val_loss: 0.4814 - val_acc: 0.9028\n",
      "Epoch 5/5\n",
      "25000/25000 [==============================] - 34s 1ms/sample - loss: 0.6672 - acc: 0.6014 - val_loss: 0.6388 - val_acc: 0.6687\n",
      "25000/25000 [==============================] - 59s 2ms/sample - loss: 0.6541 - acc: 0.6308\n"
     ]
    }
   ],
   "source": [
    "# dim = 500\n",
    "# lr = (1e-5)\n",
    "model_r500 = model_vrnn(500,1e-5) \n",
    "history_r500 = model_r500.fit(X_train_pad, train_label, batch_size = 128, epochs = 5, validation_data = (X_val, Y_val))\n",
    "acc, loss = model_r500.evaluate(X_test_pad, test_label)"
   ]
  },
  {
   "cell_type": "code",
   "execution_count": 40,
   "metadata": {},
   "outputs": [
    {
     "name": "stdout",
     "output_type": "stream",
     "text": [
      "Model: \"sequential_23\"\n",
      "_________________________________________________________________\n",
      "Layer (type)                 Output Shape              Param #   \n",
      "=================================================================\n",
      "embedding_23 (Embedding)     (None, 500, 20)           2485060   \n",
      "_________________________________________________________________\n",
      "spatial_dropout1d_23 (Spatia (None, 500, 20)           0         \n",
      "_________________________________________________________________\n",
      "simple_rnn_23 (SimpleRNN)    (None, 500)               260500    \n",
      "_________________________________________________________________\n",
      "dense_23 (Dense)             (None, 2)                 1002      \n",
      "=================================================================\n",
      "Total params: 2,746,562\n",
      "Trainable params: 2,746,562\n",
      "Non-trainable params: 0\n",
      "_________________________________________________________________\n",
      "Train on 25000 samples, validate on 8333 samples\n",
      "Epoch 1/5\n",
      "25000/25000 [==============================] - 35s 1ms/sample - loss: 0.6970 - acc: 0.4985 - val_loss: 0.7000 - val_acc: 0.4849\n",
      "Epoch 2/5\n",
      "25000/25000 [==============================] - 33s 1ms/sample - loss: 0.6955 - acc: 0.5000 - val_loss: 0.7014 - val_acc: 0.4773\n",
      "Epoch 3/5\n",
      "25000/25000 [==============================] - 33s 1ms/sample - loss: 0.6944 - acc: 0.5095 - val_loss: 0.7161 - val_acc: 0.3894\n",
      "Epoch 4/5\n",
      "25000/25000 [==============================] - 34s 1ms/sample - loss: 0.6938 - acc: 0.5121 - val_loss: 0.7005 - val_acc: 0.4744\n",
      "Epoch 5/5\n",
      "25000/25000 [==============================] - 34s 1ms/sample - loss: 0.6931 - acc: 0.5148 - val_loss: 0.6965 - val_acc: 0.4884\n",
      "25000/25000 [==============================] - 59s 2ms/sample - loss: 0.6930 - acc: 0.5124\n"
     ]
    }
   ],
   "source": [
    "# dim = 500\n",
    "\n",
    "model_r500 = model_vrnn(500,1e-6) \n",
    "history_r500 = model_r500.fit(X_train_pad, train_label, batch_size = 128, epochs = 5, validation_data = (X_val, Y_val))\n",
    "acc, loss = model_r500.evaluate(X_test_pad, test_label)"
   ]
  },
  {
   "cell_type": "code",
   "execution_count": 41,
   "metadata": {},
   "outputs": [
    {
     "name": "stdout",
     "output_type": "stream",
     "text": [
      "Model: \"sequential_24\"\n",
      "_________________________________________________________________\n",
      "Layer (type)                 Output Shape              Param #   \n",
      "=================================================================\n",
      "embedding_24 (Embedding)     (None, 500, 20)           2485060   \n",
      "_________________________________________________________________\n",
      "spatial_dropout1d_24 (Spatia (None, 500, 20)           0         \n",
      "_________________________________________________________________\n",
      "simple_rnn_24 (SimpleRNN)    (None, 500)               260500    \n",
      "_________________________________________________________________\n",
      "dense_24 (Dense)             (None, 2)                 1002      \n",
      "=================================================================\n",
      "Total params: 2,746,562\n",
      "Trainable params: 2,746,562\n",
      "Non-trainable params: 0\n",
      "_________________________________________________________________\n",
      "Train on 25000 samples, validate on 8333 samples\n",
      "Epoch 1/5\n",
      "25000/25000 [==============================] - 34s 1ms/sample - loss: 0.6950 - acc: 0.5014 - val_loss: 0.7146 - val_acc: 0.1729\n",
      "Epoch 2/5\n",
      "25000/25000 [==============================] - 34s 1ms/sample - loss: 0.6947 - acc: 0.5082 - val_loss: 0.7386 - val_acc: 0.0090\n",
      "Epoch 3/5\n",
      "25000/25000 [==============================] - 34s 1ms/sample - loss: 0.6930 - acc: 0.5140 - val_loss: 0.7254 - val_acc: 0.0383\n",
      "Epoch 4/5\n",
      "25000/25000 [==============================] - 34s 1ms/sample - loss: 0.6916 - acc: 0.5224 - val_loss: 0.7934 - val_acc: 0.0110\n",
      "Epoch 5/5\n",
      "25000/25000 [==============================] - 37s 1ms/sample - loss: 0.6915 - acc: 0.5228 - val_loss: 0.8004 - val_acc: 0.0122\n",
      "25000/25000 [==============================] - 60s 2ms/sample - loss: 0.6947 - acc: 0.5003\n"
     ]
    }
   ],
   "source": [
    "# dim = 500\n",
    "\n",
    "model_r500 = model_vrnn(500,1e-4) \n",
    "history_r500 = model_r500.fit(X_train_pad, train_label, batch_size = 128, epochs = 5, validation_data = (X_val, Y_val))\n",
    "acc, loss = model_r500.evaluate(X_test_pad, test_label)"
   ]
  },
  {
   "cell_type": "code",
   "execution_count": 42,
   "metadata": {},
   "outputs": [
    {
     "name": "stdout",
     "output_type": "stream",
     "text": [
      "Model: \"sequential_25\"\n",
      "_________________________________________________________________\n",
      "Layer (type)                 Output Shape              Param #   \n",
      "=================================================================\n",
      "embedding_25 (Embedding)     (None, 500, 20)           2485060   \n",
      "_________________________________________________________________\n",
      "spatial_dropout1d_25 (Spatia (None, 500, 20)           0         \n",
      "_________________________________________________________________\n",
      "simple_rnn_25 (SimpleRNN)    (None, 500)               260500    \n",
      "_________________________________________________________________\n",
      "dense_25 (Dense)             (None, 2)                 1002      \n",
      "=================================================================\n",
      "Total params: 2,746,562\n",
      "Trainable params: 2,746,562\n",
      "Non-trainable params: 0\n",
      "_________________________________________________________________\n",
      "Train on 25000 samples, validate on 8333 samples\n",
      "Epoch 1/5\n",
      "25000/25000 [==============================] - 34s 1ms/sample - loss: 0.7057 - acc: 0.5047 - val_loss: 0.6890 - val_acc: 0.7126\n",
      "Epoch 2/5\n",
      "25000/25000 [==============================] - 33s 1ms/sample - loss: 0.6965 - acc: 0.5222 - val_loss: 0.7991 - val_acc: 0.1271\n",
      "Epoch 3/5\n",
      "25000/25000 [==============================] - 33s 1ms/sample - loss: 0.6757 - acc: 0.5664 - val_loss: 0.5076 - val_acc: 0.8930\n",
      "Epoch 4/5\n",
      "25000/25000 [==============================] - 34s 1ms/sample - loss: 0.6669 - acc: 0.5958 - val_loss: 1.2154 - val_acc: 0.0158\n",
      "Epoch 5/5\n",
      "25000/25000 [==============================] - 35s 1ms/sample - loss: 0.6463 - acc: 0.6195 - val_loss: 0.2965 - val_acc: 0.9630\n",
      "25000/25000 [==============================] - 59s 2ms/sample - loss: 0.7128 - acc: 0.5791\n"
     ]
    }
   ],
   "source": [
    "# dim = 500\n",
    "\n",
    "model_r500 = model_vrnn(500,1e-3) \n",
    "history_r500 = model_r500.fit(X_train_pad, train_label, batch_size = 128, epochs = 5, validation_data = (X_val, Y_val))\n",
    "acc, loss = model_r500.evaluate(X_test_pad, test_label)"
   ]
  },
  {
   "cell_type": "markdown",
   "metadata": {},
   "source": [
    "### LSTM"
   ]
  },
  {
   "cell_type": "markdown",
   "metadata": {},
   "source": [
    "dim=20"
   ]
  },
  {
   "cell_type": "code",
   "execution_count": 48,
   "metadata": {},
   "outputs": [
    {
     "name": "stdout",
     "output_type": "stream",
     "text": [
      "Model: \"sequential_28\"\n",
      "_________________________________________________________________\n",
      "Layer (type)                 Output Shape              Param #   \n",
      "=================================================================\n",
      "embedding_28 (Embedding)     (None, 500, 20)           2485060   \n",
      "_________________________________________________________________\n",
      "spatial_dropout1d_28 (Spatia (None, 500, 20)           0         \n",
      "_________________________________________________________________\n",
      "lstm_2 (LSTM)                (None, 20)                3280      \n",
      "_________________________________________________________________\n",
      "dense_28 (Dense)             (None, 2)                 42        \n",
      "=================================================================\n",
      "Total params: 2,488,382\n",
      "Trainable params: 2,488,382\n",
      "Non-trainable params: 0\n",
      "_________________________________________________________________\n",
      "Train on 25000 samples, validate on 8333 samples\n",
      "WARNING:tensorflow:From /root/anaconda3/envs/tf/lib/python3.6/site-packages/tensorflow/python/ops/math_grad.py:1250: add_dispatch_support.<locals>.wrapper (from tensorflow.python.ops.array_ops) is deprecated and will be removed in a future version.\n",
      "Instructions for updating:\n",
      "Use tf.where in 2.0, which has the same broadcast rule as np.where\n",
      "Epoch 1/10\n",
      "25000/25000 [==============================] - 122s 5ms/sample - loss: 0.6187 - acc: 0.6569 - val_loss: 0.5778 - val_acc: 0.7143\n",
      "Epoch 2/10\n",
      "25000/25000 [==============================] - 123s 5ms/sample - loss: 0.5029 - acc: 0.7645 - val_loss: 0.4851 - val_acc: 0.7826\n",
      "Epoch 3/10\n",
      "25000/25000 [==============================] - 120s 5ms/sample - loss: 0.4829 - acc: 0.7781 - val_loss: 0.4275 - val_acc: 0.8164\n",
      "Epoch 4/10\n",
      "25000/25000 [==============================] - 124s 5ms/sample - loss: 0.4837 - acc: 0.7744 - val_loss: 0.4387 - val_acc: 0.8175\n",
      "Epoch 5/10\n",
      "25000/25000 [==============================] - 121s 5ms/sample - loss: 0.4647 - acc: 0.7894 - val_loss: 0.4802 - val_acc: 0.7809\n",
      "Epoch 6/10\n",
      "25000/25000 [==============================] - 122s 5ms/sample - loss: 0.4840 - acc: 0.7766 - val_loss: 0.4987 - val_acc: 0.7677\n",
      "Epoch 7/10\n",
      "25000/25000 [==============================] - 119s 5ms/sample - loss: 0.4596 - acc: 0.7905 - val_loss: 0.5079 - val_acc: 0.7576\n",
      "Epoch 8/10\n",
      "25000/25000 [==============================] - 120s 5ms/sample - loss: 0.4542 - acc: 0.7952 - val_loss: 0.4115 - val_acc: 0.8264\n",
      "Epoch 9/10\n",
      "25000/25000 [==============================] - 124s 5ms/sample - loss: 0.4546 - acc: 0.7972 - val_loss: 0.4555 - val_acc: 0.7928\n",
      "Epoch 10/10\n",
      "25000/25000 [==============================] - 121s 5ms/sample - loss: 0.4422 - acc: 0.8035 - val_loss: 0.4540 - val_acc: 0.7976\n",
      "25000/25000 [==============================] - 145s 6ms/sample - loss: 0.4468 - acc: 0.7946\n"
     ]
    }
   ],
   "source": [
    "# dim=20\n",
    "model_lr20 = lstm(20,1e-3) \n",
    "history_l20 = model_lr20.fit(X_train_pad, train_label, batch_size = 128, epochs = 10, validation_data = (X_val, Y_val))\n",
    "acc, loss = model_lr20.evaluate(X_test_pad, test_label)"
   ]
  },
  {
   "cell_type": "code",
   "execution_count": 49,
   "metadata": {},
   "outputs": [
    {
     "name": "stdout",
     "output_type": "stream",
     "text": [
      "Model: \"sequential_29\"\n",
      "_________________________________________________________________\n",
      "Layer (type)                 Output Shape              Param #   \n",
      "=================================================================\n",
      "embedding_29 (Embedding)     (None, 500, 20)           2485060   \n",
      "_________________________________________________________________\n",
      "spatial_dropout1d_29 (Spatia (None, 500, 20)           0         \n",
      "_________________________________________________________________\n",
      "lstm_3 (LSTM)                (None, 20)                3280      \n",
      "_________________________________________________________________\n",
      "dense_29 (Dense)             (None, 2)                 42        \n",
      "=================================================================\n",
      "Total params: 2,488,382\n",
      "Trainable params: 2,488,382\n",
      "Non-trainable params: 0\n",
      "_________________________________________________________________\n",
      "Train on 25000 samples, validate on 8333 samples\n",
      "Epoch 1/10\n",
      "25000/25000 [==============================] - 120s 5ms/sample - loss: 0.5938 - acc: 0.6867 - val_loss: 0.6888 - val_acc: 0.6609\n",
      "Epoch 2/10\n",
      "25000/25000 [==============================] - 117s 5ms/sample - loss: 0.5264 - acc: 0.7435 - val_loss: 0.5499 - val_acc: 0.7150\n",
      "Epoch 3/10\n",
      "25000/25000 [==============================] - 117s 5ms/sample - loss: 0.4634 - acc: 0.7824 - val_loss: 0.5398 - val_acc: 0.7476\n",
      "Epoch 4/10\n",
      "25000/25000 [==============================] - 122s 5ms/sample - loss: 0.4289 - acc: 0.8018 - val_loss: 0.3497 - val_acc: 0.8464\n",
      "Epoch 5/10\n",
      "25000/25000 [==============================] - 121s 5ms/sample - loss: 0.4044 - acc: 0.8183 - val_loss: 0.4698 - val_acc: 0.7965\n",
      "Epoch 6/10\n",
      "25000/25000 [==============================] - 119s 5ms/sample - loss: 0.3957 - acc: 0.8221 - val_loss: 0.4642 - val_acc: 0.7958\n",
      "Epoch 7/10\n",
      "25000/25000 [==============================] - 119s 5ms/sample - loss: 0.3836 - acc: 0.8317 - val_loss: 0.3407 - val_acc: 0.8607\n",
      "Epoch 8/10\n",
      "25000/25000 [==============================] - 119s 5ms/sample - loss: 0.3812 - acc: 0.8306 - val_loss: 0.3093 - val_acc: 0.8716\n",
      "Epoch 9/10\n",
      "25000/25000 [==============================] - 117s 5ms/sample - loss: 0.3721 - acc: 0.8380 - val_loss: 0.4498 - val_acc: 0.7943\n",
      "Epoch 10/10\n",
      "25000/25000 [==============================] - 127s 5ms/sample - loss: 0.3647 - acc: 0.8408 - val_loss: 0.3810 - val_acc: 0.8285\n",
      "25000/25000 [==============================] - 151s 6ms/sample - loss: 0.3430 - acc: 0.8488\n"
     ]
    }
   ],
   "source": [
    "# dim=20\n",
    "model_lr20 = lstm(20,1e-2) \n",
    "history_l20 = model_lr20.fit(X_train_pad, train_label, batch_size = 128, epochs = 10, validation_data = (X_val, Y_val))\n",
    "acc, loss = model_lr20.evaluate(X_test_pad, test_label)"
   ]
  },
  {
   "cell_type": "code",
   "execution_count": null,
   "metadata": {},
   "outputs": [],
   "source": [
    "# dim=20\n",
    "model_lr20 = lstm(20,1e-4) \n",
    "history_l20 = model_lr20.fit(X_train_pad, train_label, batch_size = 128, epochs = 10, validation_data = (X_val, Y_val))\n",
    "acc, loss = model_lr20.evaluate(X_test_pad, test_label)"
   ]
  },
  {
   "cell_type": "markdown",
   "metadata": {},
   "source": [
    "dim=50"
   ]
  },
  {
   "cell_type": "code",
   "execution_count": null,
   "metadata": {},
   "outputs": [],
   "source": [
    "# dim=50\n",
    "model_lr50 = lstm(50,1e-2) \n",
    "history_l20 = model_lr50.fit(X_train_pad, train_label, batch_size = 128, epochs = 10, validation_data = (X_val, Y_val))\n",
    "acc, loss = model_lr50.evaluate(X_test_pad, test_label)"
   ]
  },
  {
   "cell_type": "code",
   "execution_count": 53,
   "metadata": {},
   "outputs": [
    {
     "name": "stdout",
     "output_type": "stream",
     "text": [
      "Model: \"sequential_33\"\n",
      "_________________________________________________________________\n",
      "Layer (type)                 Output Shape              Param #   \n",
      "=================================================================\n",
      "embedding_33 (Embedding)     (None, 500, 50)           6212650   \n",
      "_________________________________________________________________\n",
      "spatial_dropout1d_33 (Spatia (None, 500, 50)           0         \n",
      "_________________________________________________________________\n",
      "lstm_7 (LSTM)                (None, 50)                20200     \n",
      "_________________________________________________________________\n",
      "dense_33 (Dense)             (None, 2)                 102       \n",
      "=================================================================\n",
      "Total params: 6,232,952\n",
      "Trainable params: 6,232,952\n",
      "Non-trainable params: 0\n",
      "_________________________________________________________________\n",
      "Train on 25000 samples, validate on 8333 samples\n",
      "Epoch 1/5\n",
      "25000/25000 [==============================] - 119s 5ms/sample - loss: 0.5821 - acc: 0.6926 - val_loss: 0.3852 - val_acc: 0.8495\n",
      "Epoch 2/5\n",
      "25000/25000 [==============================] - 132s 5ms/sample - loss: 0.4931 - acc: 0.7690 - val_loss: 0.4750 - val_acc: 0.7940\n",
      "Epoch 3/5\n",
      "25000/25000 [==============================] - 118s 5ms/sample - loss: 0.4760 - acc: 0.7822 - val_loss: 0.5760 - val_acc: 0.7169\n",
      "Epoch 4/5\n",
      "25000/25000 [==============================] - 119s 5ms/sample - loss: 0.4715 - acc: 0.7848 - val_loss: 0.3850 - val_acc: 0.8552\n",
      "Epoch 5/5\n",
      "25000/25000 [==============================] - 122s 5ms/sample - loss: 0.4578 - acc: 0.7921 - val_loss: 0.3705 - val_acc: 0.8530\n",
      "25000/25000 [==============================] - 149s 6ms/sample - loss: 0.4365 - acc: 0.8029\n"
     ]
    }
   ],
   "source": [
    "# dim=50\n",
    "model_lr20 = lstm(50,1e-3) \n",
    "history_l20 = model_lr20.fit(X_train_pad, train_label, batch_size = 128, epochs = 5, validation_data = (X_val, Y_val))\n",
    "acc, loss = model_lr20.evaluate(X_test_pad, test_label)"
   ]
  },
  {
   "cell_type": "code",
   "execution_count": 14,
   "metadata": {},
   "outputs": [],
   "source": [
    "# dim=50\n",
    "model_lr50 = lstm(50,1e-4) \n",
    "history_l50 = model_lr50.fit(X_train_pad, train_label, batch_size = 128, epochs = 5, validation_data = (X_val, Y_val))\n",
    "acc, loss = model_lr50.evaluate(X_test_pad, test_label)"
   ]
  },
  {
   "cell_type": "markdown",
   "metadata": {},
   "source": [
    "dim=100"
   ]
  },
  {
   "cell_type": "code",
   "execution_count": null,
   "metadata": {},
   "outputs": [],
   "source": [
    "# dim=100\n",
    "model_lr100 = lstm(100,1e-3) \n",
    "history_l50 = model_lr100.fit(X_train_pad, train_label, batch_size = 128, epochs = 10, validation_data = (X_val, Y_val))\n",
    "acc, loss = model_lr100.evaluate(X_test_pad, test_label)"
   ]
  },
  {
   "cell_type": "code",
   "execution_count": 20,
   "metadata": {},
   "outputs": [
    {
     "name": "stdout",
     "output_type": "stream",
     "text": [
      "Model: \"sequential_10\"\n",
      "_________________________________________________________________\n",
      "Layer (type)                 Output Shape              Param #   \n",
      "=================================================================\n",
      "embedding_10 (Embedding)     (None, 200, 100)          12425300  \n",
      "_________________________________________________________________\n",
      "spatial_dropout1d_10 (Spatia (None, 200, 100)          0         \n",
      "_________________________________________________________________\n",
      "lstm_10 (LSTM)               (None, 100)               80400     \n",
      "_________________________________________________________________\n",
      "dense_5 (Dense)              (None, 2)                 202       \n",
      "=================================================================\n",
      "Total params: 12,505,902\n",
      "Trainable params: 12,505,902\n",
      "Non-trainable params: 0\n",
      "_________________________________________________________________\n",
      "Train on 25000 samples, validate on 8333 samples\n",
      "Epoch 1/10\n",
      "25000/25000 [==============================] - 51s 2ms/sample - loss: 0.6139 - acc: 0.6598 - val_loss: 0.5730 - val_acc: 0.7222\n",
      "Epoch 2/10\n",
      "25000/25000 [==============================] - 54s 2ms/sample - loss: 0.5634 - acc: 0.7161 - val_loss: 0.4615 - val_acc: 0.7964\n",
      "Epoch 3/10\n",
      "25000/25000 [==============================] - 50s 2ms/sample - loss: 0.5536 - acc: 0.7254 - val_loss: 0.4791 - val_acc: 0.7982\n",
      "Epoch 4/10\n",
      "25000/25000 [==============================] - 51s 2ms/sample - loss: 0.5466 - acc: 0.7312 - val_loss: 0.4952 - val_acc: 0.7730\n",
      "Epoch 5/10\n",
      "25000/25000 [==============================] - 51s 2ms/sample - loss: 0.5507 - acc: 0.7264 - val_loss: 0.6070 - val_acc: 0.7231\n",
      "Epoch 6/10\n",
      "25000/25000 [==============================] - 51s 2ms/sample - loss: 0.5406 - acc: 0.7377 - val_loss: 0.4762 - val_acc: 0.7942\n",
      "Epoch 7/10\n",
      "25000/25000 [==============================] - 50s 2ms/sample - loss: 0.5266 - acc: 0.7457 - val_loss: 0.5236 - val_acc: 0.7671\n",
      "Epoch 8/10\n",
      "25000/25000 [==============================] - 53s 2ms/sample - loss: 0.5204 - acc: 0.7494 - val_loss: 0.4885 - val_acc: 0.7527\n",
      "Epoch 9/10\n",
      "25000/25000 [==============================] - 52s 2ms/sample - loss: 0.5103 - acc: 0.7531 - val_loss: 0.4924 - val_acc: 0.7578\n",
      "Epoch 10/10\n",
      "25000/25000 [==============================] - 57s 2ms/sample - loss: 0.5027 - acc: 0.7602 - val_loss: 0.5499 - val_acc: 0.7318\n",
      "25000/25000 [==============================] - 65s 3ms/sample - loss: 0.4970 - acc: 0.7608\n"
     ]
    }
   ],
   "source": [
    "# dim=100\n",
    "model_lr100 = lstm(100,1e-5) \n",
    "history_l100 = model_lr100.fit(X_train_pad, train_label, batch_size = 128, epochs = 10, validation_data = (X_val, Y_val))\n",
    "acc, loss = model_lr100.evaluate(X_test_pad, test_label)"
   ]
  },
  {
   "cell_type": "code",
   "execution_count": null,
   "metadata": {},
   "outputs": [],
   "source": [
    "# dim=100\n",
    "model_lr100 = lstm(100,1e-4) \n",
    "history_l100 = model_lr100.fit(X_train_pad, train_label, batch_size = 128, epochs = 10, validation_data = (X_val, Y_val))\n",
    "acc, loss = model_lr100.evaluate(X_test_pad, test_label)"
   ]
  },
  {
   "cell_type": "markdown",
   "metadata": {},
   "source": [
    "dim=200"
   ]
  },
  {
   "cell_type": "code",
   "execution_count": null,
   "metadata": {},
   "outputs": [],
   "source": [
    "# dim=200\n",
    "model_lr200 = lstm(200,1e-4) \n",
    "history_l200 = model_lr200.fit(X_train_pad, train_label, batch_size = 128, epochs = 10, validation_data = (X_val, Y_val))\n",
    "acc, loss = model_lr200.evaluate(X_test_pad, test_label)"
   ]
  },
  {
   "cell_type": "code",
   "execution_count": null,
   "metadata": {},
   "outputs": [],
   "source": [
    "# dim=200\n",
    "model_lr200 = lstm(200,1e-5) \n",
    "history_l200 = model_lr200.fit(X_train_pad, train_label, batch_size = 128, epochs = 10, validation_data = (X_val, Y_val))\n",
    "acc, loss = model_lr200.evaluate(X_test_pad, test_label)"
   ]
  },
  {
   "cell_type": "code",
   "execution_count": null,
   "metadata": {},
   "outputs": [],
   "source": [
    "# dim=200\n",
    "model_lr200 = lstm(200,1e-6) \n",
    "history_l200 = model_lr200.fit(X_train_pad, train_label, batch_size = 128, epochs = 10, validation_data = (X_val, Y_val))\n",
    "acc, loss = model_lr200.evaluate(X_test_pad, test_label)"
   ]
  },
  {
   "cell_type": "code",
   "execution_count": null,
   "metadata": {},
   "outputs": [],
   "source": [
    "model_lr200 = lstm(200,1e-3) \n",
    "history_l200 = model_lr200.fit(X_train_pad, train_label, batch_size = 128, epochs = 10, validation_data = (X_val, Y_val))\n",
    "acc, loss = model_lr200.evaluate(X_test_pad, test_label)"
   ]
  },
  {
   "cell_type": "markdown",
   "metadata": {},
   "source": [
    "dim=500"
   ]
  },
  {
   "cell_type": "code",
   "execution_count": null,
   "metadata": {},
   "outputs": [],
   "source": [
    "# dim=500\n",
    "model_lr500 = lstm(500,1e-6) \n",
    "history_l500 = model_lr500.fit(X_train_pad, train_label, batch_size = 128, epochs = 10, validation_data = (X_val, Y_val))\n",
    "acc, loss = model_lr500.evaluate(X_test_pad, test_label)"
   ]
  },
  {
   "cell_type": "code",
   "execution_count": null,
   "metadata": {},
   "outputs": [],
   "source": [
    "# dim=500\n",
    "model_lr500 = lstm(500,1e-4) \n",
    "history_l500 = model_lr500.fit(X_train_pad, train_label, batch_size = 128, epochs = 10, validation_data = (X_val, Y_val))\n",
    "acc, loss = model_lr500.evaluate(X_test_pad, test_label)"
   ]
  },
  {
   "cell_type": "code",
   "execution_count": null,
   "metadata": {},
   "outputs": [],
   "source": [
    "# dim=500\n",
    "model_lr500 = lstm(500,1e-5) \n",
    "history_l500 = model_lr500.fit(X_train_pad, train_label, batch_size = 128, epochs = 10, validation_data = (X_val, Y_val))\n",
    "acc, loss = model_lr500.evaluate(X_test_pad, test_label)"
   ]
  },
  {
   "cell_type": "code",
   "execution_count": null,
   "metadata": {},
   "outputs": [],
   "source": [
    "# dim=500\n",
    "model_lr500 = lstm(500,1e-3) \n",
    "history_l500 = model_lr500.fit(X_train_pad, train_label, batch_size = 128, epochs = 10, validation_data = (X_val, Y_val))\n",
    "acc, loss = model_lr500.evaluate(X_test_pad, test_label)"
   ]
  },
  {
   "cell_type": "markdown",
   "metadata": {},
   "source": [
    "LSTM model based on mean pooling"
   ]
  },
  {
   "cell_type": "code",
   "execution_count": 12,
   "metadata": {},
   "outputs": [
    {
     "name": "stdout",
     "output_type": "stream",
     "text": [
      "Model: \"sequential_6\"\n",
      "_________________________________________________________________\n",
      "Layer (type)                 Output Shape              Param #   \n",
      "=================================================================\n",
      "embedding_6 (Embedding)      (None, 500, 100)          12425300  \n",
      "_________________________________________________________________\n",
      "spatial_dropout1d_6 (Spatial (None, 500, 100)          0         \n",
      "_________________________________________________________________\n",
      "lstm_6 (LSTM)                (None, 500, 100)          80400     \n",
      "_________________________________________________________________\n",
      "average_pooling1d_3 (Average (None, 5, 100)            0         \n",
      "_________________________________________________________________\n",
      "flatten (Flatten)            (None, 500)               0         \n",
      "_________________________________________________________________\n",
      "dense_1 (Dense)              (None, 2)                 1002      \n",
      "=================================================================\n",
      "Total params: 12,506,702\n",
      "Trainable params: 12,506,702\n",
      "Non-trainable params: 0\n",
      "_________________________________________________________________\n",
      "Train on 25000 samples, validate on 8333 samples\n",
      "Epoch 1/10\n",
      "25000/25000 [==============================] - 125s 5ms/sample - loss: 0.5528 - acc: 0.7113 - val_loss: 0.5298 - val_acc: 0.7447\n",
      "Epoch 2/10\n",
      "25000/25000 [==============================] - 123s 5ms/sample - loss: 0.4139 - acc: 0.8162 - val_loss: 0.3973 - val_acc: 0.8352\n",
      "Epoch 3/10\n",
      "25000/25000 [==============================] - 125s 5ms/sample - loss: 0.3864 - acc: 0.8298 - val_loss: 0.3515 - val_acc: 0.8528\n",
      "Epoch 4/10\n",
      "25000/25000 [==============================] - 128s 5ms/sample - loss: 0.3745 - acc: 0.8352 - val_loss: 0.3263 - val_acc: 0.8642\n",
      "Epoch 5/10\n",
      "25000/25000 [==============================] - 162s 6ms/sample - loss: 0.3620 - acc: 0.8424 - val_loss: 0.3925 - val_acc: 0.8277\n",
      "Epoch 6/10\n",
      "25000/25000 [==============================] - 176s 7ms/sample - loss: 0.3537 - acc: 0.8451 - val_loss: 0.2901 - val_acc: 0.8867\n",
      "Epoch 7/10\n",
      "25000/25000 [==============================] - 173s 7ms/sample - loss: 0.3506 - acc: 0.8480 - val_loss: 0.3228 - val_acc: 0.8686\n",
      "Epoch 8/10\n",
      "25000/25000 [==============================] - 173s 7ms/sample - loss: 0.3449 - acc: 0.8515 - val_loss: 0.2530 - val_acc: 0.9021\n",
      "Epoch 9/10\n",
      "25000/25000 [==============================] - 172s 7ms/sample - loss: 0.3421 - acc: 0.8517 - val_loss: 0.4058 - val_acc: 0.8180\n",
      "Epoch 10/10\n",
      "25000/25000 [==============================] - 179s 7ms/sample - loss: 0.3379 - acc: 0.8533 - val_loss: 0.3451 - val_acc: 0.8561\n",
      "25000/25000 [==============================] - 202s 8ms/sample - loss: 0.3362 - acc: 0.8544\n"
     ]
    }
   ],
   "source": [
    "from tensorflow.keras.layers import AveragePooling1D,Flatten\n",
    "lr = 1e-3\n",
    "dim=100\n",
    "model_mean = Sequential()\n",
    "model_mean.add(Embedding(vocab_size, dim, input_length = 500))\n",
    "model_mean.add(SpatialDropout1D(rate = 0.3))\n",
    "model_mean.add(LSTM(100, dropout = 0.3, recurrent_dropout = 0.3, return_sequences=True))\n",
    "model_mean.add(AveragePooling1D(100))\n",
    "model_mean.add(Flatten())\n",
    "model_mean.add(Dense(2, activation = 'softmax'))\n",
    "model_mean.compile(optimizer = tf.keras.optimizers.Adam(lr), loss = 'sparse_categorical_crossentropy', metrics = ['accuracy'])\n",
    "model_mean.summary()\n",
    "\n",
    "history_mean = model_mean.fit(X_train_pad, train_label, batch_size = 128, epochs = 10, validation_data = (X_val, Y_val))\n",
    "acc, loss = model_mean.evaluate(X_test_pad, test_label)"
   ]
  },
  {
   "cell_type": "code",
   "execution_count": 15,
   "metadata": {},
   "outputs": [
    {
     "data": {
      "image/png": "[encoded data removed]",
      "text/plain": [
       "<Figure size 576x576 with 2 Axes>"
      ]
     },
     "metadata": {
      "needs_background": "light"
     },
     "output_type": "display_data"
    }
   ],
   "source": [
    "acc = history_mean.history['acc']\n",
    "val_acc = history_mean.history['val_acc']\n",
    "\n",
    "loss = history_mean.history['loss']\n",
    "val_loss = history_mean.history['val_loss']\n",
    "\n",
    "epochs_range = range(10)\n",
    "\n",
    "plt.figure(figsize=(8, 8))\n",
    "plt.subplot(1, 2, 1)\n",
    "plt.plot(epochs_range, acc, label='Training Accuracy')\n",
    "plt.plot(epochs_range, val_acc, label='Validation Accuracy')\n",
    "plt.legend(loc='lower right')\n",
    "plt.title('Training and Validation Accuracy')\n",
    "\n",
    "plt.subplot(1, 2, 2)\n",
    "plt.plot(epochs_range, loss, label='Training Loss')\n",
    "plt.plot(epochs_range, val_loss, label='Validation Loss')\n",
    "plt.legend(loc='upper right')\n",
    "plt.title('Training and Validation Loss')\n",
    "plt.show()"
   ]
  },
  {
   "cell_type": "markdown",
   "metadata": {},
   "source": [
    "Test models with different dimension for LSTM"
   ]
  },
  {
   "cell_type": "code",
   "execution_count": 7,
   "metadata": {},
   "outputs": [
    {
     "name": "stdout",
     "output_type": "stream",
     "text": [
      "Train on 25000 samples, validate on 8333 samples\n",
      "Epoch 1/10\n",
      "25000/25000 [==============================] - 34s 1ms/sample - loss: 0.6933 - acc: 0.5258 - val_loss: 0.5961 - val_acc: 0.9881\n",
      "Epoch 2/10\n",
      "25000/25000 [==============================] - 35s 1ms/sample - loss: 0.6792 - acc: 0.5654 - val_loss: 0.6520 - val_acc: 0.6919\n",
      "Epoch 3/10\n",
      "25000/25000 [==============================] - 33s 1ms/sample - loss: 0.6560 - acc: 0.6054 - val_loss: 0.4886 - val_acc: 0.8882\n",
      "Epoch 4/10\n",
      "25000/25000 [==============================] - 34s 1ms/sample - loss: 0.6204 - acc: 0.6502 - val_loss: 0.6252 - val_acc: 0.6395\n",
      "Epoch 5/10\n",
      "25000/25000 [==============================] - 33s 1ms/sample - loss: 0.6067 - acc: 0.6684 - val_loss: 0.5939 - val_acc: 0.7574\n",
      "Epoch 6/10\n",
      "25000/25000 [==============================] - 33s 1ms/sample - loss: 0.6059 - acc: 0.6718 - val_loss: 0.7344 - val_acc: 0.4059\n",
      "Epoch 7/10\n",
      "25000/25000 [==============================] - 35s 1ms/sample - loss: 0.5871 - acc: 0.6872 - val_loss: 0.4313 - val_acc: 0.8376\n",
      "Epoch 8/10\n",
      "25000/25000 [==============================] - 36s 1ms/sample - loss: 0.5931 - acc: 0.6796 - val_loss: 0.6478 - val_acc: 0.6181\n",
      "Epoch 9/10\n",
      "25000/25000 [==============================] - 34s 1ms/sample - loss: 0.6384 - acc: 0.6295 - val_loss: 0.6698 - val_acc: 0.5140\n",
      "Epoch 10/10\n",
      "25000/25000 [==============================] - 36s 1ms/sample - loss: 0.6116 - acc: 0.6577 - val_loss: 0.5324 - val_acc: 0.7720\n"
     ]
    }
   ],
   "source": [
    "historytest = model1.fit(X_train_pad, train_label, batch_size = 128, epochs = 10, validation_data = (X_val, Y_val))"
   ]
  },
  {
   "cell_type": "code",
   "execution_count": 12,
   "metadata": {},
   "outputs": [
    {
     "name": "stdout",
     "output_type": "stream",
     "text": [
      "Train on 25000 samples, validate on 8333 samples\n",
      "Epoch 1/10\n",
      "25000/25000 [==============================] - 19s 743us/sample - loss: 0.6148 - acc: 0.6520 - val_loss: 0.5446 - val_acc: 0.7452\n",
      "Epoch 2/10\n",
      "25000/25000 [==============================] - 19s 751us/sample - loss: 0.5561 - acc: 0.7206 - val_loss: 0.5567 - val_acc: 0.7209\n",
      "Epoch 3/10\n",
      "25000/25000 [==============================] - 20s 795us/sample - loss: 0.5626 - acc: 0.7125 - val_loss: 0.5855 - val_acc: 0.6865\n",
      "Epoch 4/10\n",
      "25000/25000 [==============================] - 19s 754us/sample - loss: 0.5279 - acc: 0.7409 - val_loss: 0.5204 - val_acc: 0.7433\n",
      "Epoch 5/10\n",
      "25000/25000 [==============================] - 19s 760us/sample - loss: 0.5706 - acc: 0.6973 - val_loss: 0.5800 - val_acc: 0.7565\n",
      "Epoch 6/10\n",
      "25000/25000 [==============================] - 19s 757us/sample - loss: 0.6424 - acc: 0.6226 - val_loss: 0.6557 - val_acc: 0.6189\n",
      "Epoch 7/10\n",
      "25000/25000 [==============================] - 20s 788us/sample - loss: 0.6419 - acc: 0.6273 - val_loss: 0.6878 - val_acc: 0.6004\n",
      "Epoch 8/10\n",
      "25000/25000 [==============================] - 19s 755us/sample - loss: 0.6167 - acc: 0.6612 - val_loss: 0.9892 - val_acc: 0.3349\n",
      "Epoch 9/10\n",
      "25000/25000 [==============================] - 19s 754us/sample - loss: 0.6151 - acc: 0.6599 - val_loss: 0.5488 - val_acc: 0.7465\n",
      "Epoch 10/10\n",
      "25000/25000 [==============================] - 19s 756us/sample - loss: 0.6368 - acc: 0.6412 - val_loss: 0.8930 - val_acc: 0.1262\n"
     ]
    }
   ],
   "source": [
    "# 200\n",
    "history200 = model1.fit(X_train_pad, train_label, batch_size = 128, epochs = 10, validation_data = (X_val, Y_val))"
   ]
  },
  {
   "cell_type": "code",
   "execution_count": 13,
   "metadata": {},
   "outputs": [
    {
     "data": {
      "image/png": "[encoded data removed]",
      "text/plain": [
       "<Figure size 432x288 with 1 Axes>"
      ]
     },
     "metadata": {
      "needs_background": "light"
     },
     "output_type": "display_data"
    }
   ],
   "source": [
    "plot_graphs(history200, 'acc')"
   ]
  },
  {
   "cell_type": "code",
   "execution_count": 8,
   "metadata": {},
   "outputs": [
    {
     "name": "stdout",
     "output_type": "stream",
     "text": [
      "              precision    recall  f1-score   support\n",
      "\n",
      "           0       0.76      0.76      0.76     12527\n",
      "           1       0.76      0.76      0.76     12473\n",
      "\n",
      "    accuracy                           0.76     25000\n",
      "   macro avg       0.76      0.76      0.76     25000\n",
      "weighted avg       0.76      0.76      0.76     25000\n",
      "\n"
     ]
    }
   ],
   "source": [
    "prediction = model.predict_classes(X_test_pad)\n",
    "print(classification_report(prediction, test_label))"
   ]
  },
  {
   "cell_type": "markdown",
   "metadata": {},
   "source": [
    "This is one testing example which I used in the report for explaining gradient explosion in Vanilla RNN. It runs 100 epochs."
   ]
  },
  {
   "cell_type": "code",
   "execution_count": 7,
   "metadata": {},
   "outputs": [
    {
     "data": {
      "image/png": "[encoded data removed]",
      "text/plain": [
       "<Figure size 576x576 with 2 Axes>"
      ]
     },
     "metadata": {
      "needs_background": "light"
     },
     "output_type": "display_data"
    }
   ],
   "source": [
    "acc = history.history['acc']\n",
    "val_acc = history.history['val_acc']\n",
    "\n",
    "loss = history.history['loss']\n",
    "val_loss = history.history['val_loss']\n",
    "\n",
    "epochs_range = range(100)\n",
    "\n",
    "plt.figure(figsize=(8, 8))\n",
    "plt.subplot(1, 2, 1)\n",
    "plt.plot(epochs_range, acc, label='Training Accuracy')\n",
    "plt.plot(epochs_range, val_acc, label='Validation Accuracy')\n",
    "plt.legend(loc='lower right')\n",
    "plt.title('Training and Validation Accuracy')\n",
    "\n",
    "plt.subplot(1, 2, 2)\n",
    "plt.plot(epochs_range, loss, label='Training Loss')\n",
    "plt.plot(epochs_range, val_loss, label='Validation Loss')\n",
    "plt.legend(loc='upper right')\n",
    "plt.title('Training and Validation Loss')\n",
    "plt.show()"
   ]
  }
 ],
 "metadata": {
  "kernelspec": {
   "display_name": "Python 3",
   "language": "python",
   "name": "python3"
  },
  "language_info": {
   "codemirror_mode": {
    "name": "ipython",
    "version": 3
   },
   "file_extension": ".py",
   "mimetype": "text/x-python",
   "name": "python",
   "nbconvert_exporter": "python",
   "pygments_lexer": "ipython3",
   "version": "3.6.9"
  }
 },
 "nbformat": 4,
 "nbformat_minor": 2
}
